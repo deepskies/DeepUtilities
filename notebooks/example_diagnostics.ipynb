{
 "cells": [
  {
   "cell_type": "code",
   "execution_count": 3,
   "metadata": {
    "colab": {},
    "colab_type": "code",
    "id": "eegT-CFRHSbu"
   },
   "outputs": [
    {
     "name": "stderr",
     "output_type": "stream",
     "text": [
      "Using TensorFlow backend.\n"
     ]
    }
   ],
   "source": [
    "#!pip install scikit-plot==0.3.7\n",
    "from keras.datasets import mnist\n",
    "import tensorflow as tf\n",
    "from keras.models import Sequential\n",
    "from keras.layers import Dense, Dropout, Flatten, Activation\n",
    "from keras.layers import Conv2D, MaxPooling2D, BatchNormalization\n",
    "from keras import backend as K"
   ]
  },
  {
   "cell_type": "markdown",
   "metadata": {
    "colab_type": "text",
    "id": "UivEA0Z5wpOW"
   },
   "source": [
    "# Loading Example Dataset\n",
    "### Using mnist data (hand written digits)\n",
    "\n",
    "We create a simple Sequential model with convolutional layers and train on mnist data"
   ]
  },
  {
   "cell_type": "code",
   "execution_count": 4,
   "metadata": {
    "colab": {
     "base_uri": "https://localhost:8080/",
     "height": 51
    },
    "colab_type": "code",
    "id": "klc0biy5HSbw",
    "outputId": "ba7e73e6-56df-4eed-e322-1a822f88680b"
   },
   "outputs": [
    {
     "name": "stdout",
     "output_type": "stream",
     "text": [
      "training data size / shape: (60000, 28, 28)\n",
      "testing data size /shape: (10000, 28, 28)\n"
     ]
    }
   ],
   "source": [
    "(x_train, y_train), (x_test, y_test) = mnist.load_data()\n",
    "print(\"training data size / shape:\", x_train.shape)\n",
    "print(\"testing data size /shape:\", x_test.shape)"
   ]
  },
  {
   "cell_type": "code",
   "execution_count": 5,
   "metadata": {
    "colab": {},
    "colab_type": "code",
    "id": "8lzEwhJRHSby"
   },
   "outputs": [],
   "source": [
    "y_train = tf.keras.utils.to_categorical(y_train, num_classes=10)\n",
    "y_test = tf.keras.utils.to_categorical(y_test, num_classes=10)"
   ]
  },
  {
   "cell_type": "code",
   "execution_count": 6,
   "metadata": {
    "colab": {
     "base_uri": "https://localhost:8080/",
     "height": 68
    },
    "colab_type": "code",
    "id": "T1QX7IRlHSb0",
    "outputId": "d01a2d05-e951-4509-8805-7cdf69225d57"
   },
   "outputs": [
    {
     "name": "stdout",
     "output_type": "stream",
     "text": [
      "x_train shape: (60000, 28, 28, 1)\n",
      "Number of images in x_train 60000\n",
      "Number of images in x_test 10000\n"
     ]
    }
   ],
   "source": [
    "# reshaping array to fit Convolutional shape requirements\n",
    "x_train = x_train.reshape(x_train.shape[0], 28, 28, 1)\n",
    "x_test = x_test.reshape(x_test.shape[0], 28, 28, 1)\n",
    "input_shape = (28, 28, 1)\n",
    "\n",
    "# Making sure that the values are float so that we can get decimal points after division\n",
    "x_train = x_train.astype('float32')\n",
    "x_test = x_test.astype('float32')\n",
    "\n",
    "# Normalizing the RGB codes by dividing it to the max RGB value.\n",
    "x_train /= 255\n",
    "x_test /= 255\n",
    "\n",
    "print('x_train shape:', x_train.shape)\n",
    "print('Number of images in x_train', x_train.shape[0])\n",
    "print('Number of images in x_test', x_test.shape[0])"
   ]
  },
  {
   "cell_type": "code",
   "execution_count": 7,
   "metadata": {
    "colab": {},
    "colab_type": "code",
    "id": "bXDSAhwjHSb5"
   },
   "outputs": [
    {
     "name": "stderr",
     "output_type": "stream",
     "text": [
      "WARNING: Logging before flag parsing goes to stderr.\n",
      "W0821 13:28:03.914931 4754122176 deprecation_wrapper.py:119] From /Users/Callista/anaconda3/envs/myenv/lib/python3.6/site-packages/keras/backend/tensorflow_backend.py:74: The name tf.get_default_graph is deprecated. Please use tf.compat.v1.get_default_graph instead.\n",
      "\n",
      "W0821 13:28:03.928878 4754122176 deprecation_wrapper.py:119] From /Users/Callista/anaconda3/envs/myenv/lib/python3.6/site-packages/keras/backend/tensorflow_backend.py:517: The name tf.placeholder is deprecated. Please use tf.compat.v1.placeholder instead.\n",
      "\n",
      "W0821 13:28:03.931141 4754122176 deprecation_wrapper.py:119] From /Users/Callista/anaconda3/envs/myenv/lib/python3.6/site-packages/keras/backend/tensorflow_backend.py:4138: The name tf.random_uniform is deprecated. Please use tf.random.uniform instead.\n",
      "\n",
      "W0821 13:28:03.943378 4754122176 deprecation_wrapper.py:119] From /Users/Callista/anaconda3/envs/myenv/lib/python3.6/site-packages/keras/backend/tensorflow_backend.py:3976: The name tf.nn.max_pool is deprecated. Please use tf.nn.max_pool2d instead.\n",
      "\n",
      "W0821 13:28:03.966320 4754122176 deprecation_wrapper.py:119] From /Users/Callista/anaconda3/envs/myenv/lib/python3.6/site-packages/keras/backend/tensorflow_backend.py:133: The name tf.placeholder_with_default is deprecated. Please use tf.compat.v1.placeholder_with_default instead.\n",
      "\n",
      "W0821 13:28:03.978428 4754122176 deprecation.py:506] From /Users/Callista/anaconda3/envs/myenv/lib/python3.6/site-packages/keras/backend/tensorflow_backend.py:3445: calling dropout (from tensorflow.python.ops.nn_ops) with keep_prob is deprecated and will be removed in a future version.\n",
      "Instructions for updating:\n",
      "Please use `rate` instead of `keep_prob`. Rate should be set to `rate = 1 - keep_prob`.\n"
     ]
    }
   ],
   "source": [
    "# Creating a Sequential Model and adding the layers\n",
    "model = Sequential()\n",
    "model.add(Conv2D(28, kernel_size=(3,3), input_shape=input_shape))\n",
    "model.add(MaxPooling2D(pool_size=(2, 2)))\n",
    "\n",
    "# Flattening the 2D arrays for fully connected layers\n",
    "model.add(Flatten()) \n",
    "model.add(Dense(128, activation=tf.nn.relu))\n",
    "model.add(Dropout(0.2))\n",
    "model.add(Dense(10,activation=tf.nn.softmax))"
   ]
  },
  {
   "cell_type": "code",
   "execution_count": 8,
   "metadata": {
    "colab": {},
    "colab_type": "code",
    "id": "ZQ_2ORCsHSb9"
   },
   "outputs": [],
   "source": [
    "# defining an auc metric so that our model can record that information in addition to loss/accuracy\n",
    "def auc(y_true, y_pred):\n",
    "    auc = tf.metrics.auc(y_true, y_pred)[1]\n",
    "    K.get_session().run(tf.local_variables_initializer())\n",
    "    return auc"
   ]
  },
  {
   "cell_type": "code",
   "execution_count": 9,
   "metadata": {
    "colab": {},
    "colab_type": "code",
    "id": "cd_rpw4dHSb_"
   },
   "outputs": [
    {
     "name": "stderr",
     "output_type": "stream",
     "text": [
      "W0821 13:28:11.755421 4754122176 deprecation_wrapper.py:119] From /Users/Callista/anaconda3/envs/myenv/lib/python3.6/site-packages/keras/optimizers.py:790: The name tf.train.Optimizer is deprecated. Please use tf.compat.v1.train.Optimizer instead.\n",
      "\n",
      "W0821 13:28:11.773455 4754122176 deprecation_wrapper.py:119] From /Users/Callista/anaconda3/envs/myenv/lib/python3.6/site-packages/keras/backend/tensorflow_backend.py:3295: The name tf.log is deprecated. Please use tf.math.log instead.\n",
      "\n",
      "W0821 13:28:11.855675 4754122176 deprecation.py:323] From /Users/Callista/anaconda3/envs/myenv/lib/python3.6/site-packages/tensorflow/python/ops/metrics_impl.py:809: div (from tensorflow.python.ops.math_ops) is deprecated and will be removed in a future version.\n",
      "Instructions for updating:\n",
      "Deprecated in favor of operator or tf.math.divide.\n"
     ]
    }
   ],
   "source": [
    "model.compile(optimizer=\"sgd\", loss='categorical_crossentropy', metrics=['accuracy', auc])"
   ]
  },
  {
   "cell_type": "code",
   "execution_count": 10,
   "metadata": {
    "colab": {},
    "colab_type": "code",
    "id": "V4DAcwcjHScB"
   },
   "outputs": [],
   "source": [
    "# hyperparameters\n",
    "batch_size = 30\n",
    "num_epochs = 5\n",
    "validation_split = 0.2"
   ]
  },
  {
   "cell_type": "code",
   "execution_count": 11,
   "metadata": {
    "colab": {
     "base_uri": "https://localhost:8080/",
     "height": 275
    },
    "colab_type": "code",
    "id": "wZVizA_5HScE",
    "outputId": "3a27290a-14f4-4c25-c691-32514e3a4dac"
   },
   "outputs": [
    {
     "name": "stderr",
     "output_type": "stream",
     "text": [
      "W0821 13:28:14.249311 4754122176 deprecation.py:323] From /Users/Callista/anaconda3/envs/myenv/lib/python3.6/site-packages/tensorflow/python/ops/math_grad.py:1250: add_dispatch_support.<locals>.wrapper (from tensorflow.python.ops.array_ops) is deprecated and will be removed in a future version.\n",
      "Instructions for updating:\n",
      "Use tf.where in 2.0, which has the same broadcast rule as np.where\n"
     ]
    },
    {
     "name": "stdout",
     "output_type": "stream",
     "text": [
      "Train on 4000 samples, validate on 1000 samples\n",
      "Epoch 1/5\n",
      " - 1s - loss: 1.8416 - acc: 0.5420 - auc: 0.7425 - val_loss: 1.1459 - val_acc: 0.7470 - val_auc: 0.8789\n",
      "Epoch 2/5\n",
      " - 1s - loss: 0.8152 - acc: 0.8047 - auc: 0.9148 - val_loss: 0.5768 - val_acc: 0.8550 - val_auc: 0.9366\n",
      "Epoch 3/5\n",
      " - 1s - loss: 0.5195 - acc: 0.8525 - auc: 0.9485 - val_loss: 0.4342 - val_acc: 0.8770 - val_auc: 0.9574\n",
      "Epoch 4/5\n",
      " - 1s - loss: 0.4302 - acc: 0.8770 - auc: 0.9631 - val_loss: 0.3803 - val_acc: 0.8940 - val_auc: 0.9674\n",
      "Epoch 5/5\n",
      " - 1s - loss: 0.3823 - acc: 0.8940 - auc: 0.9707 - val_loss: 0.3782 - val_acc: 0.8930 - val_auc: 0.9732\n"
     ]
    }
   ],
   "source": [
    "# training on just 5000 images for efficiency purposes\n",
    "history = model.fit(x_train[:5000], y_train[:5000], \n",
    "                    batch_size=batch_size, \n",
    "                    epochs=num_epochs, \n",
    "                    validation_split=validation_split, \n",
    "                    verbose=2)"
   ]
  },
  {
   "cell_type": "code",
   "execution_count": 12,
   "metadata": {
    "colab": {
     "base_uri": "https://localhost:8080/",
     "height": 51
    },
    "colab_type": "code",
    "id": "Kp2gKTYNHScG",
    "outputId": "922e3510-7ae9-4c44-d392-9471d9f64d1f"
   },
   "outputs": [
    {
     "name": "stdout",
     "output_type": "stream",
     "text": [
      "Train acc/loss: 0.907, 0.335\n",
      "Test acc/loss: 0.862, 0.474\n"
     ]
    }
   ],
   "source": [
    "loss_train, acc_train, auc_train  = model.evaluate(x_train[:5000], y_train[:5000], verbose=False)\n",
    "loss_test, acc_test, auc_test  = model.evaluate(x_test[:5000], y_test[:5000], verbose=False)\n",
    "print(f'Train acc/loss: {acc_train:.3}, {loss_train:.3}')\n",
    "print(f'Test acc/loss: {acc_test:.3}, {loss_test:.3}')"
   ]
  },
  {
   "cell_type": "code",
   "execution_count": 13,
   "metadata": {
    "colab": {
     "base_uri": "https://localhost:8080/",
     "height": 51
    },
    "colab_type": "code",
    "id": "3o67M4mZHScJ",
    "outputId": "80ccc438-5d45-4b34-a912-3b4161b4b55f"
   },
   "outputs": [
    {
     "name": "stdout",
     "output_type": "stream",
     "text": [
      "5000/5000 [==============================] - 0s 56us/step\n",
      "5000/5000 [==============================] - 0s 47us/step\n"
     ]
    }
   ],
   "source": [
    "# saving metrics needed for the Diagnostics class\n",
    "y_pred_train = model.predict(x_train[:5000], verbose=True)\n",
    "y_pred_test = model.predict(x_test[:5000], verbose=True)"
   ]
  },
  {
   "cell_type": "code",
   "execution_count": 14,
   "metadata": {
    "colab": {},
    "colab_type": "code",
    "id": "DV7QJgHaHScL"
   },
   "outputs": [],
   "source": [
    "# saving metrics needed for the diagnostics class \n",
    "loss_epoch = history.history['loss']\n",
    "loss_epoch_val = history.history['val_loss']\n",
    "\n",
    "acc_epoch = history.history['acc']\n",
    "acc_epoch_val = history.history['val_acc']\n",
    "\n",
    "auc_epoch = history.history['auc']\n",
    "auc_epoch_val = history.history['auc']"
   ]
  },
  {
   "cell_type": "markdown",
   "metadata": {
    "colab_type": "text",
    "id": "yxhdcQF7x-33"
   },
   "source": [
    "# Importing Diagnostics \n",
    "### This class contains information for the most popular neural network / data visualization tools\n",
    "\n",
    "Takes the following attributes as inputs:\n",
    "\n",
    "*   `actual` - list or array, the **true labels** inputted into model\n",
    "*   `predicted`- list or array, the **predicted labels** outputted by your model during testing\n",
    "*   `acc`- list or array, **accuracy per epoch** information for training and validation set (must be in format: [acc_train_per_epoch, acc_validation_per_epoch])\n",
    "*   `loss` - list or array, **loss per epoch** information for training and validation set (must be in format: [loss_train_per_epoch, loss_validation_per_epoch])\n",
    "*   `auc` - list or array, **AUC under the ROC curve per epoch** information for training and validation set (must be in format: [auc_train_per_epoch, auc_validation_per_epoch])\n",
    "*   `feature_list`- list, features used to train model\n",
    "*   `cross_val`\n",
    "*   `data_batch` - array, batch of **image pixels** inputted into model that you would like to visually plot/observe\n",
    "*   `labels_batch`- array, **labels** associated with `data_batch` images\n"
   ]
  },
  {
   "cell_type": "code",
   "execution_count": 20,
   "metadata": {
    "colab": {},
    "colab_type": "code",
    "id": "Wpo6BOmmyPq7"
   },
   "outputs": [],
   "source": [
    "from diagnostics import Diagnostics"
   ]
  },
  {
   "cell_type": "code",
   "execution_count": 21,
   "metadata": {
    "colab": {},
    "colab_type": "code",
    "id": "Jrpu88EIHScS"
   },
   "outputs": [],
   "source": [
    "plots = Diagnostics(y_test[:5000], y_pred_test, [acc_epoch, acc_epoch_val], [loss_epoch, loss_epoch_val], \n",
    "            [auc_epoch, auc_epoch_val], 0, 0, x_test[:5], y_pred_test[:5])"
   ]
  },
  {
   "cell_type": "markdown",
   "metadata": {
    "colab_type": "text",
    "id": "LZGzSXTW1HCx"
   },
   "source": [
    "## Plotting all avaliable information in class instance "
   ]
  },
  {
   "cell_type": "code",
   "execution_count": 22,
   "metadata": {
    "colab": {
     "base_uri": "https://localhost:8080/",
     "height": 1000
    },
    "colab_type": "code",
    "id": "hB3tt0dZ0aqG",
    "outputId": "8e1307d4-2f96-418c-e676-a27775561e24"
   },
   "outputs": [
    {
     "ename": "AttributeError",
     "evalue": "'Diagnostics' object has no attribute 'run_diagnostics'",
     "output_type": "error",
     "traceback": [
      "\u001b[0;31m---------------------------------------------------------------------------\u001b[0m",
      "\u001b[0;31mAttributeError\u001b[0m                            Traceback (most recent call last)",
      "\u001b[0;32m<ipython-input-22-79ca9bc49291>\u001b[0m in \u001b[0;36m<module>\u001b[0;34m\u001b[0m\n\u001b[0;32m----> 1\u001b[0;31m \u001b[0mplots\u001b[0m\u001b[0;34m.\u001b[0m\u001b[0mrun_diagnostics\u001b[0m\u001b[0;34m(\u001b[0m\u001b[0;34m)\u001b[0m\u001b[0;34m\u001b[0m\u001b[0m\n\u001b[0m",
      "\u001b[0;31mAttributeError\u001b[0m: 'Diagnostics' object has no attribute 'run_diagnostics'"
     ]
    }
   ],
   "source": [
    "plots.run_diagnostics()"
   ]
  },
  {
   "cell_type": "markdown",
   "metadata": {
    "colab_type": "text",
    "id": "_Ehcd8Sa2oTh"
   },
   "source": [
    "## Manually plotting information by calling specific methods in class"
   ]
  },
  {
   "cell_type": "code",
   "execution_count": 18,
   "metadata": {
    "colab": {
     "base_uri": "https://localhost:8080/",
     "height": 319
    },
    "colab_type": "code",
    "id": "QVVOekpdHScV",
    "outputId": "dc4d3e0e-b677-4097-d3cd-ac8729c827bc"
   },
   "outputs": [
    {
     "name": "stdout",
     "output_type": "stream",
     "text": [
      "[array([[1.86250642, 0.8037047 , 0.51514421, 0.42894388, 0.37378097],\n",
      "       [1.13223207, 0.5505735 , 0.45216775, 0.40631257, 0.35803801]]), array([[0.53350001, 0.79625   , 0.85824999, 0.87924999, 0.89274999],\n",
      "       [0.806     , 0.844     , 0.87199999, 0.87999999, 0.89699999]]), array([[0.76243281, 0.91178553, 0.94776387, 0.96190825, 0.96990138],\n",
      "       [0.76243281, 0.91178553, 0.94776387, 0.96190825, 0.96990138]])]\n"
     ]
    },
    {
     "data": {
      "image/png": "[encoded data removed]",
      "text/plain": [
       "<Figure size 1080x288 with 3 Axes>"
      ]
     },
     "metadata": {
      "needs_background": "light"
     },
     "output_type": "display_data"
    }
   ],
   "source": [
    "# specifying that we only want to plot loss and accuracy \n",
    "plots.plot_metrics_per_epoch(figsize = (15, 4), name_plot=[0, 1, 2], save_individual=False)"
   ]
  },
  {
   "cell_type": "code",
   "execution_count": null,
   "metadata": {
    "colab": {
     "base_uri": "https://localhost:8080/",
     "height": 425
    },
    "colab_type": "code",
    "id": "DkARnCN3HScX",
    "outputId": "3ec3653d-916b-4e88-d03b-dc506e9380e8"
   },
   "outputs": [],
   "source": [
    "# default is normalized, specifying non-default size for figure\n",
    "plots.plot_cm(figsize=(8, 6))"
   ]
  },
  {
   "cell_type": "code",
   "execution_count": 17,
   "metadata": {
    "colab": {
     "base_uri": "https://localhost:8080/",
     "height": 161
    },
    "colab_type": "code",
    "id": "ZsA6Iu7ZHSca",
    "outputId": "6d1d1522-0bb1-4aaf-e3d9-336c327511e9"
   },
   "outputs": [
    {
     "data": {
      "image/png": "[encoded data removed]",
      "text/plain": [
       "<Figure size 720x360 with 5 Axes>"
      ]
     },
     "metadata": {
      "needs_background": "light"
     },
     "output_type": "display_data"
    }
   ],
   "source": [
    "# you can change the figure size for all of the methods as well as the filenames\n",
    "plots.plot_sample_img(figsize=(10, 5), filename=\"Written_Digit_Samples.png\")"
   ]
  },
  {
   "cell_type": "code",
   "execution_count": null,
   "metadata": {
    "colab": {
     "base_uri": "https://localhost:8080/",
     "height": 304
    },
    "colab_type": "code",
    "id": "otgYmmJVHScc",
    "outputId": "19379124-2911-4ee4-9dcd-74436c96f650"
   },
   "outputs": [],
   "source": [
    "plots.ROC_plot()"
   ]
  },
  {
   "cell_type": "code",
   "execution_count": 19,
   "metadata": {
    "colab": {
     "base_uri": "https://localhost:8080/",
     "height": 34
    },
    "colab_type": "code",
    "id": "XYm0PQPmHvQF",
    "outputId": "38918ae3-5588-41a2-fc88-149e813ac698"
   },
   "outputs": [
    {
     "name": "stdout",
     "output_type": "stream",
     "text": [
      "Average precision-recall score: 0.93\n"
     ]
    }
   ],
   "source": [
    "plots.output_average_precision()"
   ]
  },
  {
   "cell_type": "code",
   "execution_count": 21,
   "metadata": {
    "colab": {
     "base_uri": "https://localhost:8080/",
     "height": 318
    },
    "colab_type": "code",
    "id": "5PePJBUywMkV",
    "outputId": "81abef1f-2dca-461f-d5e3-a37fc8266447"
   },
   "outputs": [
    {
     "data": {
      "image/png": "[encoded data removed]",
      "text/plain": [
       "<Figure size 432x288 with 1 Axes>"
      ]
     },
     "metadata": {
      "needs_background": "light"
     },
     "output_type": "display_data"
    }
   ],
   "source": [
    "# you can specify whether you what type of scale you want the axes to be in the plots\n",
    "plots.target_distributions(x_scale='log')"
   ]
  },
  {
   "cell_type": "code",
   "execution_count": null,
   "metadata": {
    "colab": {},
    "colab_type": "code",
    "id": "uhOtelx6H5hh"
   },
   "outputs": [],
   "source": [
    "# cannot create precision recall because mnist data is not a binary classification problem\n",
    "# plots.precision_recall_plot()"
   ]
  }
 ],
 "metadata": {
  "accelerator": "GPU",
  "colab": {
   "collapsed_sections": [],
   "name": "Example_diagnostics.ipynb",
   "provenance": [],
   "version": "0.3.2"
  },
  "kernelspec": {
   "display_name": "Python 3",
   "language": "python",
   "name": "python3"
  },
  "language_info": {
   "codemirror_mode": {
    "name": "ipython",
    "version": 3
   },
   "file_extension": ".py",
   "mimetype": "text/x-python",
   "name": "python",
   "nbconvert_exporter": "python",
   "pygments_lexer": "ipython3",
   "version": "3.6.5"
  }
 },
 "nbformat": 4,
 "nbformat_minor": 1
}
